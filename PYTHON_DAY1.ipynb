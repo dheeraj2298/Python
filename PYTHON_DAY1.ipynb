{
  "nbformat": 4,
  "nbformat_minor": 0,
  "metadata": {
    "colab": {
      "name": "PYTHON DAY1.ipynb",
      "provenance": [],
      "collapsed_sections": [],
      "authorship_tag": "ABX9TyO4OguKHxL62lVhw5O4Bmqc",
      "include_colab_link": true
    },
    "kernelspec": {
      "name": "python3",
      "display_name": "Python 3"
    },
    "language_info": {
      "name": "python"
    }
  },
  "cells": [
    {
      "cell_type": "markdown",
      "metadata": {
        "id": "view-in-github",
        "colab_type": "text"
      },
      "source": [
        "<a href=\"https://colab.research.google.com/github/dheeraj2298/Python/blob/master/PYTHON_DAY1.ipynb\" target=\"_parent\"><img src=\"https://colab.research.google.com/assets/colab-badge.svg\" alt=\"Open In Colab\"/></a>"
      ]
    },
    {
      "cell_type": "code",
      "metadata": {
        "id": "gYCN_UB6ampN"
      },
      "source": [
        ""
      ],
      "execution_count": null,
      "outputs": []
    },
    {
      "cell_type": "code",
      "metadata": {
        "colab": {
          "base_uri": "https://localhost:8080/"
        },
        "id": "qe1epNO-mKCk",
        "outputId": "c215b1be-cf5d-4cdd-d2e7-1c34cd7089b9"
      },
      "source": [
        "INR = 150\n",
        "USD = INR/73.05\n",
        "print(\"USD is:\",USD)"
      ],
      "execution_count": 1,
      "outputs": [
        {
          "output_type": "stream",
          "text": [
            "USD is: 2.053388090349076\n"
          ],
          "name": "stdout"
        }
      ]
    },
    {
      "cell_type": "code",
      "metadata": {
        "colab": {
          "base_uri": "https://localhost:8080/"
        },
        "id": "-B0Kyiv0m5GI",
        "outputId": "2cd951d9-6749-45fb-d618-5b43d4ba8967"
      },
      "source": [
        "inr = float(input(\"enter inr\"))\n",
        "usd = inr/73.05\n",
        "print(\"usd is:\",usd)\n"
      ],
      "execution_count": null,
      "outputs": [
        {
          "output_type": "stream",
          "text": [
            "enter inr150\n",
            "usd is: 2.053388090349076\n"
          ],
          "name": "stdout"
        }
      ]
    },
    {
      "cell_type": "code",
      "metadata": {
        "colab": {
          "base_uri": "https://localhost:8080/"
        },
        "id": "KDUW1seioLXE",
        "outputId": "d252ca01-f202-4666-8030-be2cb15b8370"
      },
      "source": [
        "AMT=float(input(\"enter amount:\"))\n",
        "YEAR=float(input(\"no of year:\"))\n",
        "rate=float(input(\"enter rate:\"))\n",
        "TOTAL_AMT=(AMT*YEAR*rate2)\n",
        "print(\"total amount is:\",TOTAL_AMT+AMT)\n"
      ],
      "execution_count": null,
      "outputs": [
        {
          "output_type": "stream",
          "text": [
            "enter amount:1000\n",
            "no of year:2\n",
            "enter rate:5\n",
            "total amount is: 11000.0\n"
          ],
          "name": "stdout"
        }
      ]
    },
    {
      "cell_type": "code",
      "metadata": {
        "colab": {
          "base_uri": "https://localhost:8080/"
        },
        "id": "dT9uTzC6q2pI",
        "outputId": "608b52b1-9aa8-4b58-b4dd-50eaf4b999d5"
      },
      "source": [
        "HR=int(input(\"enter no of hour\"))\n",
        "MIN=int(input(\"enter minutes\"))\n",
        "SEC=int(input(\"enter seconds\"))\n",
        "TOTAL_SEC=(HR*3600)+(MIN*60)+(SEC*1)\n",
        "print(\"total seconds are:\",TOTAL_SEC)"
      ],
      "execution_count": null,
      "outputs": [
        {
          "output_type": "stream",
          "text": [
            "enter no of hour2\n",
            "enter minutes30\n",
            "enter seconds40\n",
            "total seconds are: 9040\n"
          ],
          "name": "stdout"
        }
      ]
    },
    {
      "cell_type": "code",
      "metadata": {
        "colab": {
          "base_uri": "https://localhost:8080/"
        },
        "id": "2sFTjXKxvSMM",
        "outputId": "90506a64-ac0a-4815-c86d-0bf46e27b436"
      },
      "source": [
        "height=float(input(\"enter height\"))\n",
        "total_cm=(height*12)*2.5\n",
        "print(\"height in centimeter:\",total_cm)"
      ],
      "execution_count": null,
      "outputs": [
        {
          "output_type": "stream",
          "text": [
            "enter height6.3\n",
            "height in centimeter: 189.0\n"
          ],
          "name": "stdout"
        }
      ]
    },
    {
      "cell_type": "code",
      "metadata": {
        "colab": {
          "base_uri": "https://localhost:8080/"
        },
        "id": "bxeW16AKxOdS",
        "outputId": "3c84d175-5a53-4821-9a2f-d473c4374533"
      },
      "source": [
        "CM=float(input(\"enter total height in centimeter\"))\n",
        "feet=CM//(12*2.5)\n",
        "inch=(CM%12)//2.5\n",
        "print(feet,\"FEET\", inch,\"INCH\")"
      ],
      "execution_count": null,
      "outputs": [
        {
          "output_type": "stream",
          "text": [
            "enter total height in centimeter189\n",
            "6.0 FEET 3.0 INCH\n"
          ],
          "name": "stdout"
        }
      ]
    },
    {
      "cell_type": "code",
      "metadata": {
        "id": "eanNIvwJyiTL",
        "colab": {
          "base_uri": "https://localhost:8080/"
        },
        "outputId": "82df0f81-047f-4a90-e633-773fc14f93ae"
      },
      "source": [
        "a=10\n",
        "print(type(a))\n",
        "b=4.10\n",
        "print(type(b))\n",
        "c=a/b\n",
        "print(type(c))\n",
        "print(c)"
      ],
      "execution_count": 3,
      "outputs": [
        {
          "output_type": "stream",
          "text": [
            "<class 'int'>\n",
            "<class 'float'>\n",
            "<class 'float'>\n",
            "2.439024390243903\n"
          ],
          "name": "stdout"
        }
      ]
    },
    {
      "cell_type": "code",
      "metadata": {
        "colab": {
          "base_uri": "https://localhost:8080/"
        },
        "id": "FYYeWlx1cTFb",
        "outputId": "c39672e5-9707-4dd0-e5e5-eb0d13645a9e"
      },
      "source": [
        "a,b=22,\"dheeraj\"\n",
        "print(\"a=\",a,id(a),\"b=\",b,id(b))\n",
        "a,b=b,a\n",
        "print(\"a=\",a,id(a),\"b=\",b,id(b))"
      ],
      "execution_count": 6,
      "outputs": [
        {
          "output_type": "stream",
          "text": [
            "a= 22 94866817006752 b= dheeraj 140029488464944\n",
            "a= dheeraj 140029488464944 b= 22 94866817006752\n"
          ],
          "name": "stdout"
        }
      ]
    },
    {
      "cell_type": "code",
      "metadata": {
        "colab": {
          "base_uri": "https://localhost:8080/"
        },
        "id": "ycFy2pvRc9vN",
        "outputId": "0f7abc05-0de1-42e9-c3fd-094480ec3c9f"
      },
      "source": [
        "name=input(\"hii who are you?\")\n",
        "native=input(hii who are you?)"
      ],
      "execution_count": 7,
      "outputs": [
        {
          "output_type": "stream",
          "text": [
            "hii who are you?dheeraj\n",
            "where are you frommumbai\n"
          ],
          "name": "stdout"
        }
      ]
    },
    {
      "cell_type": "code",
      "metadata": {
        "colab": {
          "base_uri": "https://localhost:8080/"
        },
        "id": "_bIqaKP8dRKG",
        "outputId": "1bca1ba9-3ac8-4dcd-fd91-5de95b734390"
      },
      "source": [
        "print(\"hii who are you?\",name, \"where are you from?\",native )"
      ],
      "execution_count": 11,
      "outputs": [
        {
          "output_type": "stream",
          "text": [
            "hii who are you? dheeraj where are you from? mumbai\n"
          ],
          "name": "stdout"
        }
      ]
    },
    {
      "cell_type": "code",
      "metadata": {
        "colab": {
          "base_uri": "https://localhost:8080/",
          "height": 131
        },
        "id": "-ShS-itcd5SS",
        "outputId": "4028084a-481a-40d6-8921-4fa48058cb7e"
      },
      "source": [
        "a=10\n",
        "b=20\n",
        "c=30\n",
        "print(a,end=\".\")\n",
        "print(b,end=\"$\")\n",
        "print(c,end=\"*\")"
      ],
      "execution_count": 15,
      "outputs": [
        {
          "output_type": "error",
          "ename": "SyntaxError",
          "evalue": "ignored",
          "traceback": [
            "\u001b[0;36m  File \u001b[0;32m\"<ipython-input-15-9bced036b9c8>\"\u001b[0;36m, line \u001b[0;32m4\u001b[0m\n\u001b[0;31m    print(a,end=\".\"\\n)\u001b[0m\n\u001b[0m                      ^\u001b[0m\n\u001b[0;31mSyntaxError\u001b[0m\u001b[0;31m:\u001b[0m unexpected character after line continuation character\n"
          ]
        }
      ]
    },
    {
      "cell_type": "code",
      "metadata": {
        "colab": {
          "base_uri": "https://localhost:8080/"
        },
        "id": "B1Qlf8nSeZcN",
        "outputId": "4e149b5c-a802-4e60-f3a9-b5b52ac22523"
      },
      "source": [
        "4.5%3.5"
      ],
      "execution_count": 16,
      "outputs": [
        {
          "output_type": "execute_result",
          "data": {
            "text/plain": [
              "1.0"
            ]
          },
          "metadata": {
            "tags": []
          },
          "execution_count": 16
        }
      ]
    },
    {
      "cell_type": "code",
      "metadata": {
        "colab": {
          "base_uri": "https://localhost:8080/"
        },
        "id": "wrGC8Vovehdl",
        "outputId": "f875389e-fdc6-4e2c-c7aa-e7fe5a1555c6"
      },
      "source": [
        "x=10\n",
        "x+=2\n",
        "x"
      ],
      "execution_count": 17,
      "outputs": [
        {
          "output_type": "execute_result",
          "data": {
            "text/plain": [
              "12"
            ]
          },
          "metadata": {
            "tags": []
          },
          "execution_count": 17
        }
      ]
    },
    {
      "cell_type": "code",
      "metadata": {
        "colab": {
          "base_uri": "https://localhost:8080/",
          "height": 35
        },
        "id": "gy6X5nDbemeA",
        "outputId": "9a609f28-7df3-4c4d-d90e-53a33dc8d17e"
      },
      "source": [
        "bin(10)"
      ],
      "execution_count": 18,
      "outputs": [
        {
          "output_type": "execute_result",
          "data": {
            "application/vnd.google.colaboratory.intrinsic+json": {
              "type": "string"
            },
            "text/plain": [
              "'0b1010'"
            ]
          },
          "metadata": {
            "tags": []
          },
          "execution_count": 18
        }
      ]
    },
    {
      "cell_type": "code",
      "metadata": {
        "colab": {
          "base_uri": "https://localhost:8080/",
          "height": 35
        },
        "id": "qGuql2gbep37",
        "outputId": "d8a6e7a1-904b-48c3-c46d-15cfb9f25843"
      },
      "source": [
        "hex(10)\n",
        "    "
      ],
      "execution_count": 19,
      "outputs": [
        {
          "output_type": "execute_result",
          "data": {
            "application/vnd.google.colaboratory.intrinsic+json": {
              "type": "string"
            },
            "text/plain": [
              "'0xa'"
            ]
          },
          "metadata": {
            "tags": []
          },
          "execution_count": 19
        }
      ]
    },
    {
      "cell_type": "code",
      "metadata": {
        "colab": {
          "base_uri": "https://localhost:8080/",
          "height": 35
        },
        "id": "VrvBWBZWevEr",
        "outputId": "521967dd-8921-40ba-8265-0eaac2390035"
      },
      "source": [
        "oct(10)"
      ],
      "execution_count": 20,
      "outputs": [
        {
          "output_type": "execute_result",
          "data": {
            "application/vnd.google.colaboratory.intrinsic+json": {
              "type": "string"
            },
            "text/plain": [
              "'0o12'"
            ]
          },
          "metadata": {
            "tags": []
          },
          "execution_count": 20
        }
      ]
    },
    {
      "cell_type": "code",
      "metadata": {
        "colab": {
          "base_uri": "https://localhost:8080/"
        },
        "id": "pTf9XPErezyP",
        "outputId": "8468581d-0dcf-42ee-adf7-4adb582f7778"
      },
      "source": [
        "ord(\"a\")"
      ],
      "execution_count": 22,
      "outputs": [
        {
          "output_type": "execute_result",
          "data": {
            "text/plain": [
              "97"
            ]
          },
          "metadata": {
            "tags": []
          },
          "execution_count": 22
        }
      ]
    },
    {
      "cell_type": "code",
      "metadata": {
        "colab": {
          "base_uri": "https://localhost:8080/",
          "height": 35
        },
        "id": "-C8OdIZNe4jU",
        "outputId": "2e1c09c4-749e-4717-bf87-2522b6e493af"
      },
      "source": [
        "chr(97)"
      ],
      "execution_count": 23,
      "outputs": [
        {
          "output_type": "execute_result",
          "data": {
            "application/vnd.google.colaboratory.intrinsic+json": {
              "type": "string"
            },
            "text/plain": [
              "'a'"
            ]
          },
          "metadata": {
            "tags": []
          },
          "execution_count": 23
        }
      ]
    },
    {
      "cell_type": "code",
      "metadata": {
        "colab": {
          "base_uri": "https://localhost:8080/"
        },
        "id": "JkzMF7Sde8_C",
        "outputId": "bc2262b3-6eba-4d69-82d8-2cb3b5fa400c"
      },
      "source": [
        "ord(\"A\")"
      ],
      "execution_count": 24,
      "outputs": [
        {
          "output_type": "execute_result",
          "data": {
            "text/plain": [
              "65"
            ]
          },
          "metadata": {
            "tags": []
          },
          "execution_count": 24
        }
      ]
    },
    {
      "cell_type": "code",
      "metadata": {
        "colab": {
          "base_uri": "https://localhost:8080/"
        },
        "id": "5W6jTByVfCjF",
        "outputId": "10f9d472-2ef0-41d7-fb83-269b5581b575"
      },
      "source": [
        "import math\n",
        "math.sqrt(25)"
      ],
      "execution_count": 25,
      "outputs": [
        {
          "output_type": "execute_result",
          "data": {
            "text/plain": [
              "5.0"
            ]
          },
          "metadata": {
            "tags": []
          },
          "execution_count": 25
        }
      ]
    },
    {
      "cell_type": "code",
      "metadata": {
        "colab": {
          "base_uri": "https://localhost:8080/"
        },
        "id": "_BglkRflfOPH",
        "outputId": "6e503220-30e4-42a6-e311-fcfe04d6b5ae"
      },
      "source": [
        "l,b=float(input(\"Enter length:\")),float(input(\"Enter breadth:\"))\n",
        "area=l*b\n",
        "print(\"Area of Rectangle is:\",area)"
      ],
      "execution_count": 30,
      "outputs": [
        {
          "output_type": "stream",
          "text": [
            "Enter length:10\n",
            "Enter breadth:20\n",
            "Area of Rectangle is: 200.0\n"
          ],
          "name": "stdout"
        }
      ]
    }
  ]
}