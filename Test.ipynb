{
  "nbformat": 4,
  "nbformat_minor": 0,
  "metadata": {
    "colab": {
      "name": "Test.ipynb",
      "provenance": [],
      "collapsed_sections": [],
      "authorship_tag": "ABX9TyN85nE0TZKO30fjDkDds3Dd",
      "include_colab_link": true
    },
    "kernelspec": {
      "name": "python3",
      "display_name": "Python 3"
    },
    "language_info": {
      "name": "python"
    }
  },
  "cells": [
    {
      "cell_type": "markdown",
      "metadata": {
        "id": "view-in-github",
        "colab_type": "text"
      },
      "source": [
        "<a href=\"https://colab.research.google.com/github/dheeraj2298/Python/blob/master/Test.ipynb\" target=\"_parent\"><img src=\"https://colab.research.google.com/assets/colab-badge.svg\" alt=\"Open In Colab\"/></a>"
      ]
    },
    {
      "cell_type": "markdown",
      "metadata": {
        "id": "WNlHrNgz6Qeu"
      },
      "source": [
        "1. Given a number count the total number of digits in a number\n",
        "For example: The number is 75869, so the output should be"
      ]
    },
    {
      "cell_type": "code",
      "metadata": {
        "colab": {
          "base_uri": "https://localhost:8080/"
        },
        "id": "7bFASFra6Rap",
        "outputId": "a7675dbb-e7b3-4e7a-d387-c464a57ffb47"
      },
      "source": [
        "a=int(input(\"Enter the Number:\"))\n",
        "count=0\n",
        "while(a>0):\n",
        "    count=count+1\n",
        "    a=a//10\n",
        "print(\"The number of digits in given number:\",count)"
      ],
      "execution_count": null,
      "outputs": [
        {
          "output_type": "stream",
          "text": [
            "Enter the Number:12345\n",
            "The number of digits in given number: 5\n"
          ],
          "name": "stdout"
        }
      ]
    },
    {
      "cell_type": "markdown",
      "metadata": {
        "id": "sqj3SnYd6rDd"
      },
      "source": [
        "2.Reverse the following list using for loop"
      ]
    },
    {
      "cell_type": "code",
      "metadata": {
        "colab": {
          "base_uri": "https://localhost:8080/"
        },
        "id": "dvdwY1cd6r2n",
        "outputId": "c496b78f-8abb-4a12-e403-bacfceb6887a"
      },
      "source": [
        "list = []\n",
        "n=int(input(\"Enter number of elements:\"))\n",
        "for i in range (0,n):\n",
        "    a=int(input())\n",
        "    list.append(a)\n",
        "print(list)\n",
        "listA=list[::-1]\n",
        "print(\"Reverse list is:\",listA)"
      ],
      "execution_count": null,
      "outputs": [
        {
          "output_type": "stream",
          "text": [
            "Enter number of elements:10\n",
            "12\n",
            "20\n",
            "30\n",
            "40\n",
            "50\n",
            "60\n",
            "70\n",
            "80\n",
            "90\n",
            "100\n",
            "[12, 20, 30, 40, 50, 60, 70, 80, 90, 100]\n",
            "Reverse list is: [100, 90, 80, 70, 60, 50, 40, 30, 20, 12]\n"
          ],
          "name": "stdout"
        }
      ]
    },
    {
      "cell_type": "markdown",
      "metadata": {
        "id": "FOaPhLdG65yz"
      },
      "source": [
        "3.Given 2 strings, s1 and s2, create a new string by appending s2 in the middle of s1"
      ]
    },
    {
      "cell_type": "code",
      "metadata": {
        "colab": {
          "base_uri": "https://localhost:8080/"
        },
        "id": "U-Y45hKu6_-A",
        "outputId": "20bf056c-f8b7-4cc9-dc60-0bd39b46a788"
      },
      "source": [
        "s1 = \"dheerajdavkhar\"\n",
        "s2 = \"eknath\"\n",
        "print(\"The original string is:\",s1)\n",
        "print(\"The added string is:\",s2)\n",
        "n=7\n",
        "s3 = list(s1)\n",
        "s3.insert(7,s2)\n",
        "s3 = \"\".join(s3)\n",
        "print(\"The new string is:\",s3)\n"
      ],
      "execution_count": 1,
      "outputs": [
        {
          "output_type": "stream",
          "text": [
            "The original string is: dheerajdavkhar\n",
            "The added string is: eknath\n",
            "The new string is: dheerajeknathdavkhar\n"
          ],
          "name": "stdout"
        }
      ]
    },
    {
      "cell_type": "markdown",
      "metadata": {
        "id": "oPlfAYSA-egI"
      },
      "source": [
        "4. Arrange String characters such that lowercase letters should come first"
      ]
    },
    {
      "cell_type": "code",
      "metadata": {
        "colab": {
          "base_uri": "https://localhost:8080/"
        },
        "id": "FICMjteP-fWb",
        "outputId": "4eedf94c-7e20-4b6a-931e-92938cd9b217"
      },
      "source": [
        "input_string=input(\"Enter the String:\")\n",
        "lower = \"\"\n",
        "upper = \"\"\n",
        "for i in input_string:\n",
        "  if i.islower():\n",
        "    lower += i\n",
        "  else:\n",
        "    upper += i\n",
        "print(lower+upper)      \n",
        "\n",
        "\n"
      ],
      "execution_count": 2,
      "outputs": [
        {
          "output_type": "stream",
          "text": [
            "Enter the String:abcFGHtyu\n",
            "abctyuFGH\n"
          ],
          "name": "stdout"
        }
      ]
    },
    {
      "cell_type": "markdown",
      "metadata": {
        "id": "opp5LY2bBDMZ"
      },
      "source": [
        "5.Given a string, return the sum and average of the digits that appear in the string, ignoring all other\n",
        "characters"
      ]
    },
    {
      "cell_type": "code",
      "metadata": {
        "id": "-f_N_x4rBHNQ"
      },
      "source": [
        "def sumAndAverage(ip_str):\n",
        "  l= ip_str.split()\n",
        "  num_list = []\n",
        "  \n",
        "  for i in l:\n",
        "    if i.isnumeric():\n",
        "      num_list.append(int(i))\n",
        "\n",
        "  digit_sum = sum(num_list)\n",
        "  digit_avg = digit_sum/len(num_list)\n",
        "\n",
        "  return \"Sum :- \" + str(digit_sum) + \" Avg :-\" + str(digit_avg)\n"
      ],
      "execution_count": 1,
      "outputs": []
    },
    {
      "cell_type": "code",
      "metadata": {
        "colab": {
          "base_uri": "https://localhost:8080/",
          "height": 35
        },
        "id": "77gRjzFIOnzf",
        "outputId": "ad24d249-4484-40da-aa0a-12923094fa0b"
      },
      "source": [
        "sumAndAverage(\"English = 78 Science = 83 Math = 68 History = 65\")"
      ],
      "execution_count": 5,
      "outputs": [
        {
          "output_type": "execute_result",
          "data": {
            "application/vnd.google.colaboratory.intrinsic+json": {
              "type": "string"
            },
            "text/plain": [
              "'Sum :- 294 Avg :-73.5'"
            ]
          },
          "metadata": {
            "tags": []
          },
          "execution_count": 5
        }
      ]
    },
    {
      "cell_type": "markdown",
      "metadata": {
        "id": "ZgWwGxyYO6PG"
      },
      "source": [
        "6.Given a two list. Create a third list by picking an odd-index element from the first list and even index\n",
        "elements from second."
      ]
    },
    {
      "cell_type": "code",
      "metadata": {
        "colab": {
          "base_uri": "https://localhost:8080/"
        },
        "id": "pMcHvFWWO-o1",
        "outputId": "4a65985f-3902-42ba-a9ba-e061397a65d7"
      },
      "source": [
        "list1 = [1,2,3,4,5,6]\n",
        "list2 = [7,8,9,10,11,12]\n",
        "even_i = []\n",
        "odd_i = []\n",
        "even_i = list1[::2]\n",
        "odd_i = list2[1::2]\n",
        "list3 = even_i + odd_i\n",
        "print(\"Even index list is:\",even_i)\n",
        "print(\"Odd index list is:\",odd_i)\n",
        "print(\"Mix index list is:\",list3)\n"
      ],
      "execution_count": 7,
      "outputs": [
        {
          "output_type": "stream",
          "text": [
            "Even index list is: [1, 3, 5]\n",
            "Odd index list is: [8, 10, 12]\n",
            "Mix index list is: [1, 3, 5, 8, 10, 12]\n"
          ],
          "name": "stdout"
        }
      ]
    }
  ]
}