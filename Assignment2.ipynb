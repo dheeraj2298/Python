{
  "nbformat": 4,
  "nbformat_minor": 0,
  "metadata": {
    "colab": {
      "name": "Assignment2.ipynb",
      "provenance": [],
      "collapsed_sections": [],
      "authorship_tag": "ABX9TyNTN7J/Ui30c/jWwB5xoOGf",
      "include_colab_link": true
    },
    "kernelspec": {
      "name": "python3",
      "display_name": "Python 3"
    },
    "language_info": {
      "name": "python"
    }
  },
  "cells": [
    {
      "cell_type": "markdown",
      "metadata": {
        "id": "view-in-github",
        "colab_type": "text"
      },
      "source": [
        "<a href=\"https://colab.research.google.com/github/dheeraj2298/Python/blob/master/Assignment2.ipynb\" target=\"_parent\"><img src=\"https://colab.research.google.com/assets/colab-badge.svg\" alt=\"Open In Colab\"/></a>"
      ]
    },
    {
      "cell_type": "code",
      "metadata": {
        "id": "v1Fts3_Yuw0w"
      },
      "source": [
        ""
      ],
      "execution_count": null,
      "outputs": []
    },
    {
      "cell_type": "markdown",
      "metadata": {
        "id": "B1HAc7MGB3Iw"
      },
      "source": [
        "ASIGNMENT **3**"
      ]
    },
    {
      "cell_type": "markdown",
      "metadata": {
        "id": "OCNJFMVK24m6"
      },
      "source": [
        ""
      ]
    },
    {
      "cell_type": "markdown",
      "metadata": {
        "id": "gLpQxB1-27RH"
      },
      "source": [
        "Write a Python program that accepts an integer (n) and computes the value of n+nn+nnn."
      ]
    },
    {
      "cell_type": "code",
      "metadata": {
        "colab": {
          "base_uri": "https://localhost:8080/"
        },
        "id": "QJ5rpI2e03Si",
        "outputId": "ca7b7609-fab0-4533-82c3-18576114ad70"
      },
      "source": [
        "a = int(input(\"Input an integer : \"))\n",
        "n1 = int( \"%s\" % a )\n",
        "n2 = int( \"%s%s\" % (a,a) )\n",
        "n3 = int( \"%s%s%s\" % (a,a,a) )\n",
        "print (n1+n2+n3)\n"
      ],
      "execution_count": 1,
      "outputs": [
        {
          "output_type": "stream",
          "text": [
            "Input an integer : 5\n",
            "615\n"
          ],
          "name": "stdout"
        }
      ]
    },
    {
      "cell_type": "markdown",
      "metadata": {
        "id": "GcYQfb6Z2_62"
      },
      "source": [
        "Write a Python program to get the volume of a sphere with radius 6"
      ]
    },
    {
      "cell_type": "code",
      "metadata": {
        "colab": {
          "base_uri": "https://localhost:8080/"
        },
        "id": "L7Gxb4tA3E1F",
        "outputId": "567cf9d1-9aff-425c-8d3b-37291d9ccbcd"
      },
      "source": [
        "r=float(input(\"Radius is:\"))\n",
        "π=22/7\n",
        "volume=4/3*π*r**3\n",
        "print(\"volume of sphere is:\",volume)"
      ],
      "execution_count": 5,
      "outputs": [
        {
          "output_type": "stream",
          "text": [
            "Radius is:22\n",
            "volume of sphere is: 44620.190476190466\n"
          ],
          "name": "stdout"
        }
      ]
    },
    {
      "cell_type": "markdown",
      "metadata": {
        "id": "_3lr8l2E4cq0"
      },
      "source": [
        "Write a Python program to calculate the sum of three given numbers, if the values are equal then return three\n",
        "times of their sum.\n"
      ]
    },
    {
      "cell_type": "code",
      "metadata": {
        "colab": {
          "base_uri": "https://localhost:8080/"
        },
        "id": "UHpiknq-4g5X",
        "outputId": "fd7b5d54-114e-4ca8-a09c-4b76a143655a"
      },
      "source": [
        "n1=float(input(\"Enter number1:\"))\n",
        "n2=float(input(\"Enter number2:\"))\n",
        "n3=float(input(\"Enter number3:\"))\n",
        "if n1==n2==n3:\n",
        "  sum=3*(n1+n2+n3)\n",
        "else:\n",
        "  sum=n1+n2+n3\n",
        "print(\"Sum of three numbers is:\",sum)    "
      ],
      "execution_count": 8,
      "outputs": [
        {
          "output_type": "stream",
          "text": [
            "Enter number1:22\n",
            "Enter number2:22\n",
            "Enter number3:22\n",
            "Sum of three numbers is: 198.0\n"
          ],
          "name": "stdout"
        }
      ]
    },
    {
      "cell_type": "markdown",
      "metadata": {
        "id": "yPgTEoOR5d2a"
      },
      "source": [
        "Write a Python program to count the number 4 in a given list."
      ]
    },
    {
      "cell_type": "code",
      "metadata": {
        "colab": {
          "base_uri": "https://localhost:8080/"
        },
        "id": "Coly7dHd5kjo",
        "outputId": "205c5f31-0faf-4a3f-9c6b-e26d098f6b47"
      },
      "source": [
        "l=[1,2,3,4,5,4,6,4,7,4,8,4,9,4]\n",
        "l.count(4)\n"
      ],
      "execution_count": 9,
      "outputs": [
        {
          "output_type": "execute_result",
          "data": {
            "text/plain": [
              "6"
            ]
          },
          "metadata": {
            "tags": []
          },
          "execution_count": 9
        }
      ]
    },
    {
      "cell_type": "markdown",
      "metadata": {
        "id": "RhGliWBm6ooY"
      },
      "source": [
        "Write a Python program to check whether a specified value is contained in a group of values."
      ]
    },
    {
      "cell_type": "code",
      "metadata": {
        "colab": {
          "base_uri": "https://localhost:8080/"
        },
        "id": "5sLXLzgb6vDt",
        "outputId": "123abfcb-afc8-4f0b-b61f-b6f7c7bfe929"
      },
      "source": [
        "def a(b, n):\n",
        "   for i in b:\n",
        "       if n == i:\n",
        "           return True\n",
        "   return False\n",
        "print(a([1, 5, 8, 3], 3))\n",
        "print(a([5, 8, 3], -1))\n"
      ],
      "execution_count": 14,
      "outputs": [
        {
          "output_type": "stream",
          "text": [
            "True\n",
            "False\n"
          ],
          "name": "stdout"
        }
      ]
    },
    {
      "cell_type": "markdown",
      "metadata": {
        "id": "ELOQR-WJ9B7O"
      },
      "source": [
        "Write a Python program to solve (x + y) * (x + y)\n"
      ]
    },
    {
      "cell_type": "code",
      "metadata": {
        "colab": {
          "base_uri": "https://localhost:8080/"
        },
        "id": "yTz6JJEp9FWl",
        "outputId": "a0438785-4d5b-4218-d657-4f9057ce37cf"
      },
      "source": [
        "x=float(input(\"Enter value of X:\"))\n",
        "y=float(input(\"Enter value of Y:\"))\n",
        "result=(x+y)*(x+y)\n",
        "print(\"Solution is:\",result)"
      ],
      "execution_count": 16,
      "outputs": [
        {
          "output_type": "stream",
          "text": [
            "Enter value of X:2\n",
            "Enter value of Y:3\n",
            "Solution is: 25.0\n"
          ],
          "name": "stdout"
        }
      ]
    },
    {
      "cell_type": "markdown",
      "metadata": {
        "id": "6EEsJeax9vw7"
      },
      "source": [
        "Write a Python program to compute the future value of a specified principal amount, rate of interest, and a\n",
        "number of years."
      ]
    },
    {
      "cell_type": "code",
      "metadata": {
        "colab": {
          "base_uri": "https://localhost:8080/"
        },
        "id": "cyHgD-Q69wr2",
        "outputId": "5b0f4960-a134-4e2b-9a0c-d2c723e25511"
      },
      "source": [
        "p=float(input(\"Enter principal amount:\"))\n",
        "r=float(input(\"Enter rate of interest:\"))\n",
        "y=int(input(\"Enter number of years:\"))\n",
        "total=p*(1+(0.01*r))**y\n",
        "print(total)"
      ],
      "execution_count": 17,
      "outputs": [
        {
          "output_type": "stream",
          "text": [
            "Enter principal amount:10000\n",
            "Enter rate of interest:3.5\n",
            "Enter number of years:7\n",
            "12722.792627665729\n"
          ],
          "name": "stdout"
        }
      ]
    },
    {
      "cell_type": "markdown",
      "metadata": {
        "id": "EGoRmH1r_aNf"
      },
      "source": [
        "Write a python program to find the sum of the first n positive integers."
      ]
    },
    {
      "cell_type": "code",
      "metadata": {
        "colab": {
          "base_uri": "https://localhost:8080/"
        },
        "id": "st01VlS9_c4F",
        "outputId": "297e5c1a-6a96-41d3-a71d-b8b149e84ec1"
      },
      "source": [
        "n=int(input(\"enter number:\"))\n",
        "sum=0\n",
        "for i in range(1,n+1):\n",
        "  sum=sum+i\n",
        "print(sum)  \n"
      ],
      "execution_count": 19,
      "outputs": [
        {
          "output_type": "stream",
          "text": [
            "enter number:100\n",
            "5050\n"
          ],
          "name": "stdout"
        }
      ]
    },
    {
      "cell_type": "markdown",
      "metadata": {
        "id": "kGmicivrAVzF"
      },
      "source": [
        " Write a Python program to convert the distance (in feet) to inches, yards, and miles."
      ]
    },
    {
      "cell_type": "code",
      "metadata": {
        "colab": {
          "base_uri": "https://localhost:8080/"
        },
        "id": "L66-8ycNAXTJ",
        "outputId": "3e3bdfae-a850-43bc-bc16-0133c304dc94"
      },
      "source": [
        "f=float(input(\"Enter distance in feet:\"))\n",
        "inch=f*12\n",
        "yard=f/3\n",
        "mile=f/5280\n",
        "print(\"Distance in inches is - - >\",inch,\"Distance in yards is  - - >\",yard,\"Distance in miles is  - - >\",mile)"
      ],
      "execution_count": 21,
      "outputs": [
        {
          "output_type": "stream",
          "text": [
            "Enter distance in feet:5\n",
            "Distance in inches is - - > 60.0 Distance in yards is  - - > 1.6666666666666667 Distance in miles is  - - > 0.000946969696969697\n"
          ],
          "name": "stdout"
        }
      ]
    }
  ]
}